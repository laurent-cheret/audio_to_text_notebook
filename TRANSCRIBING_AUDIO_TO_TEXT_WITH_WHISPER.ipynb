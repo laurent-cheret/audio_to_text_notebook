{
  "nbformat": 4,
  "nbformat_minor": 0,
  "metadata": {
    "colab": {
      "provenance": [],
      "machine_shape": "hm",
      "gpuType": "L4"
    },
    "kernelspec": {
      "name": "python3",
      "display_name": "Python 3"
    },
    "language_info": {
      "name": "python"
    },
    "accelerator": "GPU"
  },
  "cells": [
    {
      "cell_type": "markdown",
      "source": [
        "============================================================================\n",
        "AUDIO TRANSCRIPTION - Easy Setup Guide\n",
        "============================================================================\n",
        "\n",
        "HOW TO USE THIS (Simple 3-step process):\n",
        "\n",
        "1. RUN THE CODE\n",
        "   - (Detail: If you are able to select another environment with GPU instead of the standard CPU, this code will run significantly faster).\n",
        "   - Click the Play button (▶) on the left side of this code box\n",
        "   - OR press Shift + Enter on your keyboard\n",
        "   - Wait while it installs (you'll see text appearing below)\n",
        "\n",
        "2. UPLOAD YOUR AUDIO FILE\n",
        "   - A \"Choose Files\" button will appear\n",
        "   - Click it and select your M4A (or MP3, WAV) audio file\n",
        "   - Wait for it to upload (you'll see a progress bar)\n",
        "\n",
        "3. WAIT FOR TRANSCRIPTION\n",
        "   - The code will automatically transcribe your audio\n",
        "   - When done, your transcription will appear below\n",
        "   - A text file will automatically download to your computer\n",
        "\n",
        "THAT'S IT! No account needed, completely free.\n",
        "\n",
        "TIPS:\n",
        "- Longer audio files take more time (be patient!)\n",
        "- For better accuracy: Change \"base\" to \"small\" or \"medium\" below\n",
        "- For faster results: Change \"base\" to \"tiny\" below\n",
        "- You can transcribe multiple files - just run the code again\n",
        "\n",
        "============================================================================"
      ],
      "metadata": {
        "id": "_tOW7zJpQYHM"
      }
    },
    {
      "cell_type": "code",
      "execution_count": null,
      "metadata": {
        "id": "6ERnpCKsHAgJ"
      },
      "outputs": [],
      "source": [
        "# Audio Transcription with Whisper\n",
        "# This notebook transcribes M4A (and other audio formats) to text using OpenAI's Whisper\n",
        "\n",
        "# Step 1: Install required packages\n",
        "print(\"Installing Whisper and dependencies...\")\n",
        "!pip install -q openai-whisper\n",
        "\n",
        "# Step 2: Import libraries\n",
        "import whisper\n",
        "from google.colab import files\n",
        "import os\n",
        "\n",
        "print(\"\\n✓ Installation complete!\")\n",
        "\n",
        "# Step 3: Load Whisper model\n",
        "print(\"\\nLoading Whisper model (this may take a minute)...\")\n",
        "print(\"Available models: tiny, base, small, medium, large\")\n",
        "print(\"Larger models are more accurate but slower\\n\")\n",
        "\n",
        "# Choose model size (base is a good balance)\n",
        "model_size = \"base\"  # Change to \"small\", \"medium\", or \"large\" for better accuracy\n",
        "model = whisper.load_model(model_size)\n",
        "\n",
        "print(f\"✓ Loaded '{model_size}' model successfully!\")\n",
        "\n",
        "# Step 4: Upload your audio file\n",
        "print(\"\\n\" + \"=\"*50)\n",
        "print(\"Click 'Choose Files' below to upload your M4A file\")\n",
        "print(\"=\"*50)\n",
        "uploaded = files.upload()\n",
        "\n",
        "# Get the uploaded filename\n",
        "audio_file = list(uploaded.keys())[0]\n",
        "print(f\"\\n✓ Uploaded: {audio_file}\")\n",
        "\n",
        "# Step 5: Transcribe the audio\n",
        "print(\"\\nTranscribing... (this may take a few minutes depending on file size)\")\n",
        "result = model.transcribe(audio_file)\n",
        "\n",
        "# Step 6: Display results\n",
        "print(\"\\n\" + \"=\"*50)\n",
        "print(\"TRANSCRIPTION COMPLETE\")\n",
        "print(\"=\"*50)\n",
        "print(\"\\n\" + result[\"text\"])\n",
        "\n",
        "# Step 7: Save transcription to a text file\n",
        "output_filename = os.path.splitext(audio_file)[0] + \"_transcription.txt\"\n",
        "with open(output_filename, \"w\", encoding=\"utf-8\") as f:\n",
        "    f.write(result[\"text\"])\n",
        "\n",
        "print(f\"\\n✓ Transcription saved to: {output_filename}\")\n",
        "\n",
        "# Step 8: Download the transcription\n",
        "print(\"\\nDownloading transcription file...\")\n",
        "files.download(output_filename)\n",
        "\n",
        "print(\"\\n✓ All done! Check your downloads folder for the transcription.\")"
      ]
    }
  ]
}